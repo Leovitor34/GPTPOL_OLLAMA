{
 "cells": [
  {
   "cell_type": "markdown",
   "id": "d239b7a1-b2e9-47a8-a5b3-5a3edc38d0c2",
   "metadata": {},
   "source": [
    "# Rodar o projeto (iniciar o servidor Next.js)"
   ]
  },
  {
   "cell_type": "markdown",
   "id": "a9df0a95-72ad-4e7b-8748-a2a4159f1438",
   "metadata": {},
   "source": [
    "# 🚔 GPTPOL – Interface baseada no DeepSeek + IA Ollama\n",
    "\n",
    "Este notebook documenta todo o processo de construção da interface do **GPTPOL**, usando como base o clone do DeepSeek (apenas o **frontend**).  \n",
    "A IA será executada **localmente via Ollama**, com o modelo **Dolphin-LLaMA3**.\n",
    "\n",
    "---\n",
    "\n",
    "## 🎯 Objetivo Geral:\n",
    "Criar uma interface profissional e moderna para uso em delegacias, que se conectará com uma IA personalizada, rodando localmente no servidor do GPTPOL.\n",
    "\n",
    "---\n",
    "\n",
    "## ⚙️ Componentes principais do projeto:\n",
    "\n",
    "- ✅ **Frontend**: Clone DeepSeek (Next.js + Tailwind + TypeScript)\n",
    "- 🚫 **Backend do DeepSeek não será utilizado**\n",
    "- ✅ **IA Local**: Dolphin-LLaMA3 via **Ollama**\n",
    "- 🔜 Integração futura com backend próprio usando **FastAPI**\n",
    "- 🔒 Projeto executado **localmente e com segurança total**\n",
    "\n",
    "---\n",
    "\n",
    "## 📂 Caminho do projeto:\n",
    "`/Servidor_Nexortech/Projetos/GPTPOL/deepseek_clone`\n",
    "\n",
    "---\n",
    "\n",
    "## ✅ Etapas concluídas:\n",
    "- Criado o projeto com `create-next-app`\n",
    "- Substituída a estrutura pelo clone original do DeepSeek\n",
    "- Pronto para instalar as dependências com `npm install`\n",
    "\n",
    "---\n",
    "\n",
    "## 🚀 Próximas etapas:\n",
    "1. Instalar dependências com `npm install`\n",
    "2. Rodar frontend com `npm run dev`\n",
    "3. Validar interface no navegador\n",
    "4. Criar endpoint de conexão com Ollama\n",
    "5. Testar o Dolphin-LLaMA3 na interface\n"
   ]
  },
  {
   "cell_type": "markdown",
   "id": "b501b745-d142-4e90-af6c-32e17e6fec6a",
   "metadata": {},
   "source": [
    "✅ PRÓXIMA CÉLULA – Rodar o projeto (iniciar o servidor Next.js) 👉 http://192.168.0.241:3000 ( NO TERMINAL ) \n",
    "\n"
   ]
  },
  {
   "cell_type": "code",
   "execution_count": null,
   "id": "2cc51fe2-cf1a-403b-a76f-fa5e1b422f88",
   "metadata": {},
   "outputs": [],
   "source": [
    "cd /Servidor_Nexortech/Projetos/GPTPOL/deepseek_clone\n",
    "npm run dev\n"
   ]
  },
  {
   "cell_type": "code",
   "execution_count": null,
   "id": "dbe2bdbc-604c-4f22-90f0-c7a2c25698de",
   "metadata": {},
   "outputs": [],
   "source": []
  }
 ],
 "metadata": {
  "kernelspec": {
   "display_name": "Python 3 (ipykernel)",
   "language": "python",
   "name": "python3"
  },
  "language_info": {
   "codemirror_mode": {
    "name": "ipython",
    "version": 3
   },
   "file_extension": ".py",
   "mimetype": "text/x-python",
   "name": "python",
   "nbconvert_exporter": "python",
   "pygments_lexer": "ipython3",
   "version": "3.12.3"
  }
 },
 "nbformat": 4,
 "nbformat_minor": 5
}
